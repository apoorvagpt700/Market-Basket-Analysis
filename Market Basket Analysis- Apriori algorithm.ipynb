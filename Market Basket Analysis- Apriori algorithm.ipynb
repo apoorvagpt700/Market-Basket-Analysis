{
 "cells": [
  {
   "cell_type": "markdown",
   "id": "0168210e",
   "metadata": {},
   "source": [
    "# Market basket analysis using apriori algorithm"
   ]
  },
  {
   "cell_type": "markdown",
   "id": "9f18200f",
   "metadata": {},
   "source": [
    "About this Dataset\n",
    "• The Online Retail II data set, which includes the sales data of the UK-based online sales store, was used.\n",
    "• Sales data between 01/12/2010 - 09/12/2011 are included in the data set.\n",
    "• The product catalog of this company includes souvenirs.\n",
    "• There is also information that most of its customers are wholesalers.\n",
    "\n",
    "Variables:\n",
    "• InvoiceNo: Invoice Number -> If this code starts with C, it means that the operation has been canceled.\n",
    "• StockCode: Product Code -> Unique number for each product\n",
    "• Description: Product name\n",
    "• Quantity: Number of products -> how many of the products on the invoices were sold.\n",
    "• InvoiceDate\n",
    "• UnitePrice\n",
    "• CustomerID: Unique customer number\n",
    "• Country"
   ]
  },
  {
   "cell_type": "markdown",
   "id": "b72b4d4f",
   "metadata": {},
   "source": [
    "### Import required libraries"
   ]
  },
  {
   "cell_type": "code",
   "execution_count": 81,
   "id": "257919b2",
   "metadata": {},
   "outputs": [],
   "source": [
    "import pandas as pd\n",
    "\n",
    "# For Association Rules Learning & Apriori \n",
    "from mlxtend.frequent_patterns import apriori, association_rules"
   ]
  },
  {
   "cell_type": "markdown",
   "id": "5ac90b7b",
   "metadata": {},
   "source": [
    "### Import dataset in pandas dataframe"
   ]
  },
  {
   "cell_type": "code",
   "execution_count": 3,
   "id": "bbe4b7a1",
   "metadata": {},
   "outputs": [],
   "source": [
    "df = pd.read_excel('C:/Users/apoor/Desktop/Apoorva/Learnings/Apriori algo/online_retail_II/online_retail_II.xlsx')"
   ]
  },
  {
   "cell_type": "markdown",
   "id": "c5b1f506",
   "metadata": {},
   "source": [
    "### To check non-null values and datatypes of columns"
   ]
  },
  {
   "cell_type": "code",
   "execution_count": 5,
   "id": "b0e8df49",
   "metadata": {},
   "outputs": [
    {
     "name": "stdout",
     "output_type": "stream",
     "text": [
      "<class 'pandas.core.frame.DataFrame'>\n",
      "RangeIndex: 541910 entries, 0 to 541909\n",
      "Data columns (total 8 columns):\n",
      " #   Column       Non-Null Count   Dtype         \n",
      "---  ------       --------------   -----         \n",
      " 0   Invoice      541910 non-null  object        \n",
      " 1   StockCode    541910 non-null  object        \n",
      " 2   Description  540456 non-null  object        \n",
      " 3   Quantity     541910 non-null  int64         \n",
      " 4   InvoiceDate  541910 non-null  datetime64[ns]\n",
      " 5   Price        541910 non-null  float64       \n",
      " 6   Customer ID  406830 non-null  float64       \n",
      " 7   Country      541910 non-null  object        \n",
      "dtypes: datetime64[ns](1), float64(2), int64(1), object(4)\n",
      "memory usage: 33.1+ MB\n"
     ]
    }
   ],
   "source": [
    "df.info()"
   ]
  },
  {
   "cell_type": "markdown",
   "id": "1112b571",
   "metadata": {},
   "source": [
    "There are 541,910 non null rows except Description and Customer ID which contains null values"
   ]
  },
  {
   "cell_type": "markdown",
   "id": "bfc13852",
   "metadata": {},
   "source": [
    "### To check the no of null values in each column"
   ]
  },
  {
   "cell_type": "code",
   "execution_count": 6,
   "id": "90b3e23b",
   "metadata": {
    "scrolled": true
   },
   "outputs": [
    {
     "data": {
      "text/plain": [
       "Invoice             0\n",
       "StockCode           0\n",
       "Description      1454\n",
       "Quantity            0\n",
       "InvoiceDate         0\n",
       "Price               0\n",
       "Customer ID    135080\n",
       "Country             0\n",
       "dtype: int64"
      ]
     },
     "execution_count": 6,
     "metadata": {},
     "output_type": "execute_result"
    }
   ],
   "source": [
    "df.isna().sum() "
   ]
  },
  {
   "cell_type": "markdown",
   "id": "405420c8",
   "metadata": {},
   "source": [
    "Description contains 0.2% of null rows and Customer Id contains 25% of null rows "
   ]
  },
  {
   "cell_type": "markdown",
   "id": "39628776",
   "metadata": {},
   "source": [
    "### Drop null values in the dataframe"
   ]
  },
  {
   "cell_type": "code",
   "execution_count": 7,
   "id": "d37f8b8a",
   "metadata": {},
   "outputs": [],
   "source": [
    "df.dropna(inplace=True)"
   ]
  },
  {
   "cell_type": "code",
   "execution_count": 9,
   "id": "e4b26507",
   "metadata": {},
   "outputs": [
    {
     "data": {
      "text/plain": [
       "(406830, 8)"
      ]
     },
     "execution_count": 9,
     "metadata": {},
     "output_type": "execute_result"
    }
   ],
   "source": [
    "df.shape"
   ]
  },
  {
   "cell_type": "markdown",
   "id": "0feb160d",
   "metadata": {},
   "source": [
    "Finally dataframe contains 75% of the initial data(541,910 rows) aftre removing duplicates"
   ]
  },
  {
   "cell_type": "markdown",
   "id": "c8ed3042",
   "metadata": {},
   "source": [
    "### Check statistics of quantative columns"
   ]
  },
  {
   "cell_type": "code",
   "execution_count": 87,
   "id": "0a90d2e4",
   "metadata": {
    "scrolled": true
   },
   "outputs": [
    {
     "data": {
      "text/html": [
       "<div>\n",
       "<style scoped>\n",
       "    .dataframe tbody tr th:only-of-type {\n",
       "        vertical-align: middle;\n",
       "    }\n",
       "\n",
       "    .dataframe tbody tr th {\n",
       "        vertical-align: top;\n",
       "    }\n",
       "\n",
       "    .dataframe thead th {\n",
       "        text-align: right;\n",
       "    }\n",
       "</style>\n",
       "<table border=\"1\" class=\"dataframe\">\n",
       "  <thead>\n",
       "    <tr style=\"text-align: right;\">\n",
       "      <th></th>\n",
       "      <th>count</th>\n",
       "      <th>mean</th>\n",
       "      <th>std</th>\n",
       "      <th>min</th>\n",
       "      <th>25%</th>\n",
       "      <th>50%</th>\n",
       "      <th>75%</th>\n",
       "      <th>max</th>\n",
       "    </tr>\n",
       "  </thead>\n",
       "  <tbody>\n",
       "    <tr>\n",
       "      <th>Quantity</th>\n",
       "      <td>357405.0</td>\n",
       "      <td>11.794236</td>\n",
       "      <td>25.567641</td>\n",
       "      <td>1.000</td>\n",
       "      <td>2.00</td>\n",
       "      <td>5.00</td>\n",
       "      <td>12.00</td>\n",
       "      <td>298.50</td>\n",
       "    </tr>\n",
       "    <tr>\n",
       "      <th>Price</th>\n",
       "      <td>357405.0</td>\n",
       "      <td>2.827035</td>\n",
       "      <td>3.099559</td>\n",
       "      <td>0.001</td>\n",
       "      <td>1.25</td>\n",
       "      <td>1.69</td>\n",
       "      <td>3.75</td>\n",
       "      <td>37.06</td>\n",
       "    </tr>\n",
       "    <tr>\n",
       "      <th>Customer ID</th>\n",
       "      <td>357405.0</td>\n",
       "      <td>15303.358674</td>\n",
       "      <td>1710.679299</td>\n",
       "      <td>12346.000</td>\n",
       "      <td>13982.00</td>\n",
       "      <td>15159.00</td>\n",
       "      <td>16806.00</td>\n",
       "      <td>18287.00</td>\n",
       "    </tr>\n",
       "  </tbody>\n",
       "</table>\n",
       "</div>"
      ],
      "text/plain": [
       "                count          mean          std        min       25%  \\\n",
       "Quantity     357405.0     11.794236    25.567641      1.000      2.00   \n",
       "Price        357405.0      2.827035     3.099559      0.001      1.25   \n",
       "Customer ID  357405.0  15303.358674  1710.679299  12346.000  13982.00   \n",
       "\n",
       "                  50%       75%       max  \n",
       "Quantity         5.00     12.00    298.50  \n",
       "Price            1.69      3.75     37.06  \n",
       "Customer ID  15159.00  16806.00  18287.00  "
      ]
     },
     "execution_count": 87,
     "metadata": {},
     "output_type": "execute_result"
    }
   ],
   "source": [
    "df.describe().T"
   ]
  },
  {
   "cell_type": "markdown",
   "id": "0830b8bf",
   "metadata": {},
   "source": [
    "### Remove cancelled transactions"
   ]
  },
  {
   "cell_type": "markdown",
   "id": "da188c36",
   "metadata": {},
   "source": [
    "Invoice id contains \"C\" as first character for all cancelled transactions as described in data description"
   ]
  },
  {
   "cell_type": "code",
   "execution_count": 88,
   "id": "3b733473",
   "metadata": {},
   "outputs": [],
   "source": [
    "df_valid = pd.DataFrame({\"Invoice\":[row for row in df[\"Invoice\"].values if \"C\"  not in str(row)]})\n",
    "df_valid = df_valid.drop_duplicates(\"Invoice\")"
   ]
  },
  {
   "cell_type": "markdown",
   "id": "3628b1ae",
   "metadata": {},
   "source": [
    "Replace dataframe with only valid transactions (not cancelled)"
   ]
  },
  {
   "cell_type": "code",
   "execution_count": 90,
   "id": "b792ada9",
   "metadata": {},
   "outputs": [],
   "source": [
    "df = df.merge(df_valid, on = \"Invoice\")"
   ]
  },
  {
   "cell_type": "markdown",
   "id": "4bbb2aaa",
   "metadata": {},
   "source": [
    "### Outlier detection"
   ]
  },
  {
   "cell_type": "markdown",
   "id": "fe0fabbc",
   "metadata": {},
   "source": [
    "Defining first quartile at 1% and third quartile at 99% and defining upper and lower limit"
   ]
  },
  {
   "cell_type": "code",
   "execution_count": 91,
   "id": "d53806d9",
   "metadata": {},
   "outputs": [],
   "source": [
    "def outlier_thresholds(dataframe, variable):\n",
    "    quartile1 = dataframe[variable].quantile(0.01)\n",
    "    quartile3 = dataframe[variable].quantile(0.99)\n",
    "    interquantile_range = quartile3 - quartile1\n",
    "    up_limit = quartile3 + 1.5 * interquantile_range\n",
    "    low_limit = quartile1 - 1.5 * interquantile_range\n",
    "    return low_limit, up_limit"
   ]
  },
  {
   "cell_type": "markdown",
   "id": "37785bb3",
   "metadata": {},
   "source": [
    "Replacing outliers with upper and lower limit"
   ]
  },
  {
   "cell_type": "code",
   "execution_count": 93,
   "id": "5a15e12a",
   "metadata": {},
   "outputs": [],
   "source": [
    "def replace_with_thresholds(dataframe, variable):\n",
    "    low_limit, up_limit = outlier_thresholds(dataframe, variable)\n",
    "    dataframe.loc[(dataframe[variable] < low_limit), variable] = low_limit\n",
    "    dataframe.loc[(dataframe[variable] > up_limit), variable] = up_limit "
   ]
  },
  {
   "cell_type": "markdown",
   "id": "14091d25",
   "metadata": {},
   "source": [
    "Checking datatypes of dataframe "
   ]
  },
  {
   "cell_type": "code",
   "execution_count": 95,
   "id": "03b42961",
   "metadata": {},
   "outputs": [
    {
     "data": {
      "text/plain": [
       "Invoice                object\n",
       "StockCode              object\n",
       "Description            object\n",
       "Quantity              float64\n",
       "InvoiceDate    datetime64[ns]\n",
       "Price                 float64\n",
       "Customer ID           float64\n",
       "Country                object\n",
       "dtype: object"
      ]
     },
     "execution_count": 95,
     "metadata": {},
     "output_type": "execute_result"
    }
   ],
   "source": [
    "df.dtypes"
   ]
  },
  {
   "cell_type": "markdown",
   "id": "83651297",
   "metadata": {},
   "source": [
    "To store int and float datatypes columns in list (except ID)"
   ]
  },
  {
   "cell_type": "code",
   "execution_count": 97,
   "id": "16deffdb",
   "metadata": {},
   "outputs": [
    {
     "name": "stdout",
     "output_type": "stream",
     "text": [
      "['Quantity', 'Price']\n"
     ]
    }
   ],
   "source": [
    "columns_num = [col for col in df.columns if df[col].dtypes in [\"int64\",\"float64\"] and \"ID\" not in col]\n",
    "print(columns_num)"
   ]
  },
  {
   "cell_type": "markdown",
   "id": "8c2a3297",
   "metadata": {},
   "source": [
    "Call outlier functions defined above to replace outliers with threshold values"
   ]
  },
  {
   "cell_type": "code",
   "execution_count": 98,
   "id": "c6dd5672",
   "metadata": {},
   "outputs": [],
   "source": [
    "for col in columns_num:\n",
    "    replace_with_thresholds(df, col)"
   ]
  },
  {
   "cell_type": "markdown",
   "id": "6f48a24b",
   "metadata": {},
   "source": [
    "### To check number of products same as of number of stockcodes"
   ]
  },
  {
   "cell_type": "code",
   "execution_count": 102,
   "id": "f1a62ce6",
   "metadata": {},
   "outputs": [
    {
     "data": {
      "text/plain": [
       "3419"
      ]
     },
     "execution_count": 102,
     "metadata": {},
     "output_type": "execute_result"
    }
   ],
   "source": [
    "df.Description.nunique()"
   ]
  },
  {
   "cell_type": "code",
   "execution_count": 103,
   "id": "79f5f839",
   "metadata": {
    "scrolled": true
   },
   "outputs": [
    {
     "data": {
      "text/plain": [
       "3419"
      ]
     },
     "execution_count": 103,
     "metadata": {},
     "output_type": "execute_result"
    }
   ],
   "source": [
    "df.StockCode.nunique()"
   ]
  },
  {
   "cell_type": "markdown",
   "id": "8a727268",
   "metadata": {},
   "source": [
    "There are 3,877 unique descriptions and 3,665 unique stockcodes in dataframe. The unique count of these 2 variables should be same, because each stock code represents an item"
   ]
  },
  {
   "cell_type": "markdown",
   "id": "d9dffa83",
   "metadata": {},
   "source": [
    "To store the items with one description and multiple stockcode in different dataframe"
   ]
  },
  {
   "cell_type": "code",
   "execution_count": 105,
   "id": "f6273864",
   "metadata": {},
   "outputs": [
    {
     "data": {
      "text/html": [
       "<div>\n",
       "<style scoped>\n",
       "    .dataframe tbody tr th:only-of-type {\n",
       "        vertical-align: middle;\n",
       "    }\n",
       "\n",
       "    .dataframe tbody tr th {\n",
       "        vertical-align: top;\n",
       "    }\n",
       "\n",
       "    .dataframe thead th {\n",
       "        text-align: right;\n",
       "    }\n",
       "</style>\n",
       "<table border=\"1\" class=\"dataframe\">\n",
       "  <thead>\n",
       "    <tr style=\"text-align: right;\">\n",
       "      <th></th>\n",
       "      <th>Description</th>\n",
       "      <th>StockCode</th>\n",
       "    </tr>\n",
       "  </thead>\n",
       "  <tbody>\n",
       "    <tr>\n",
       "      <th>0</th>\n",
       "      <td>4 PURPLE FLOCK DINNER CANDLES</td>\n",
       "      <td>1</td>\n",
       "    </tr>\n",
       "    <tr>\n",
       "      <th>2271</th>\n",
       "      <td>PINK/WHITE RIBBED MELAMINE JUG</td>\n",
       "      <td>1</td>\n",
       "    </tr>\n",
       "    <tr>\n",
       "      <th>2273</th>\n",
       "      <td>PIZZA PLATE IN BOX</td>\n",
       "      <td>1</td>\n",
       "    </tr>\n",
       "    <tr>\n",
       "      <th>2274</th>\n",
       "      <td>PLACE SETTING WHITE HEART</td>\n",
       "      <td>1</td>\n",
       "    </tr>\n",
       "    <tr>\n",
       "      <th>2275</th>\n",
       "      <td>PLACE SETTING WHITE STAR</td>\n",
       "      <td>1</td>\n",
       "    </tr>\n",
       "  </tbody>\n",
       "</table>\n",
       "</div>"
      ],
      "text/plain": [
       "                         Description  StockCode\n",
       "0      4 PURPLE FLOCK DINNER CANDLES          1\n",
       "2271  PINK/WHITE RIBBED MELAMINE JUG          1\n",
       "2273              PIZZA PLATE IN BOX          1\n",
       "2274       PLACE SETTING WHITE HEART          1\n",
       "2275        PLACE SETTING WHITE STAR          1"
      ]
     },
     "execution_count": 105,
     "metadata": {},
     "output_type": "execute_result"
    }
   ],
   "source": [
    "df_multiple = df[[\"Description\",\"StockCode\"]].drop_duplicates()\n",
    "df_multiple = df_multiple.groupby([\"Description\"]).agg({\"StockCode\":\"count\"}).reset_index()\n",
    "df_multiple.sort_values(\"StockCode\", ascending=False).head()"
   ]
  },
  {
   "cell_type": "code",
   "execution_count": 107,
   "id": "1ca6767a",
   "metadata": {},
   "outputs": [],
   "source": [
    "df_multiple.rename(columns={'StockCode':'StockCode_Count'},inplace=True)\n",
    "df_multiple = df_multiple[df_multiple[\"StockCode_Count\"]>1]"
   ]
  },
  {
   "cell_type": "markdown",
   "id": "c82deb5f",
   "metadata": {},
   "source": [
    "Delete items with more than one stockcode"
   ]
  },
  {
   "cell_type": "code",
   "execution_count": 43,
   "id": "a622d034",
   "metadata": {},
   "outputs": [],
   "source": [
    "df = df[~df[\"Description\"].isin(df_multiple[\"Description\"])]"
   ]
  },
  {
   "cell_type": "markdown",
   "id": "44aff3f4",
   "metadata": {},
   "source": [
    "Check unique count of descriptions and stockcodes"
   ]
  },
  {
   "cell_type": "code",
   "execution_count": 44,
   "id": "0ace14fe",
   "metadata": {
    "scrolled": true
   },
   "outputs": [
    {
     "name": "stdout",
     "output_type": "stream",
     "text": [
      "3630\n",
      "3858\n"
     ]
    }
   ],
   "source": [
    "print(df.StockCode.nunique())\n",
    "print(df.Description.nunique())"
   ]
  },
  {
   "cell_type": "markdown",
   "id": "d4b36c78",
   "metadata": {},
   "source": [
    "To store the items with one stockcode and multiple descriptions in different dataframe"
   ]
  },
  {
   "cell_type": "code",
   "execution_count": 109,
   "id": "fe09c9d9",
   "metadata": {},
   "outputs": [],
   "source": [
    "df_multiple_d = df[[\"Description\",\"StockCode\"]].drop_duplicates()\n",
    "df_multiple_d = df_multiple_d.groupby([\"StockCode\"]).agg({\"Description\":\"count\"}).reset_index()\n",
    "df_multiple_d.rename(columns={'Description':'Description_Count'},inplace=True)"
   ]
  },
  {
   "cell_type": "code",
   "execution_count": 113,
   "id": "d4f0b629",
   "metadata": {},
   "outputs": [
    {
     "data": {
      "text/html": [
       "<div>\n",
       "<style scoped>\n",
       "    .dataframe tbody tr th:only-of-type {\n",
       "        vertical-align: middle;\n",
       "    }\n",
       "\n",
       "    .dataframe tbody tr th {\n",
       "        vertical-align: top;\n",
       "    }\n",
       "\n",
       "    .dataframe thead th {\n",
       "        text-align: right;\n",
       "    }\n",
       "</style>\n",
       "<table border=\"1\" class=\"dataframe\">\n",
       "  <thead>\n",
       "    <tr style=\"text-align: right;\">\n",
       "      <th></th>\n",
       "      <th>StockCode</th>\n",
       "      <th>Description_Count</th>\n",
       "    </tr>\n",
       "  </thead>\n",
       "  <tbody>\n",
       "    <tr>\n",
       "      <th>1990</th>\n",
       "      <td>23236</td>\n",
       "      <td>4</td>\n",
       "    </tr>\n",
       "    <tr>\n",
       "      <th>1950</th>\n",
       "      <td>23196</td>\n",
       "      <td>4</td>\n",
       "    </tr>\n",
       "    <tr>\n",
       "      <th>2129</th>\n",
       "      <td>23396</td>\n",
       "      <td>3</td>\n",
       "    </tr>\n",
       "    <tr>\n",
       "      <th>1881</th>\n",
       "      <td>23126</td>\n",
       "      <td>3</td>\n",
       "    </tr>\n",
       "    <tr>\n",
       "      <th>1963</th>\n",
       "      <td>23209</td>\n",
       "      <td>3</td>\n",
       "    </tr>\n",
       "  </tbody>\n",
       "</table>\n",
       "</div>"
      ],
      "text/plain": [
       "     StockCode  Description_Count\n",
       "1990     23236                  4\n",
       "1950     23196                  4\n",
       "2129     23396                  3\n",
       "1881     23126                  3\n",
       "1963     23209                  3"
      ]
     },
     "execution_count": 113,
     "metadata": {},
     "output_type": "execute_result"
    }
   ],
   "source": [
    "df_multiple_d = df_product.sort_values(\"Description_Count\", ascending=False)\n",
    "df_multiple_d = df_multiple_d[df_multiple_d[\"Description_Count\"] > 1] \n",
    "df_multiple_d.head()"
   ]
  },
  {
   "cell_type": "markdown",
   "id": "657ebb7b",
   "metadata": {},
   "source": [
    "Delete items with more than one description"
   ]
  },
  {
   "cell_type": "code",
   "execution_count": 115,
   "id": "e2fa0edc",
   "metadata": {},
   "outputs": [],
   "source": [
    "df = df[~df[\"StockCode\"].isin(df_multiple_d[\"StockCode\"])]"
   ]
  },
  {
   "cell_type": "markdown",
   "id": "4068485d",
   "metadata": {},
   "source": [
    "Check unique count of descriptions and stockcodes"
   ]
  },
  {
   "cell_type": "code",
   "execution_count": 49,
   "id": "3610cea9",
   "metadata": {},
   "outputs": [
    {
     "name": "stdout",
     "output_type": "stream",
     "text": [
      "3420\n",
      "3420\n"
     ]
    }
   ],
   "source": [
    "print(df.StockCode.nunique())\n",
    "print(df.Description.nunique())"
   ]
  },
  {
   "cell_type": "markdown",
   "id": "98886190",
   "metadata": {},
   "source": [
    "The \"post\" in the stockcode indicates the postage cost in dataset, delete it as it is not a valid item"
   ]
  },
  {
   "cell_type": "code",
   "execution_count": 50,
   "id": "463fc5f5",
   "metadata": {},
   "outputs": [],
   "source": [
    "df = df[~df[\"StockCode\"].str.contains(\"POST\", na=False)]"
   ]
  },
  {
   "cell_type": "markdown",
   "id": "5c1aa8ad",
   "metadata": {},
   "source": [
    "Lets filter the dataframe for Germany only to minimize the size of the data"
   ]
  },
  {
   "cell_type": "code",
   "execution_count": 117,
   "id": "a155edfa",
   "metadata": {
    "scrolled": true
   },
   "outputs": [
    {
     "data": {
      "text/plain": [
       "(7843, 8)"
      ]
     },
     "execution_count": 117,
     "metadata": {},
     "output_type": "execute_result"
    }
   ],
   "source": [
    "df_germany = df[df[\"Country\"] == \"Germany\"]\n",
    "df_germany.shape"
   ]
  },
  {
   "cell_type": "markdown",
   "id": "5a1e8d46",
   "metadata": {},
   "source": [
    "### Create a function to prepare invoice-matrix for applying apriroi algo"
   ]
  },
  {
   "cell_type": "code",
   "execution_count": 118,
   "id": "b2f18b4b",
   "metadata": {},
   "outputs": [],
   "source": [
    "def invoice_item_df(dataframe, id=False):\n",
    "    if id:\n",
    "        return dataframe.groupby(['Invoice', \"StockCode\"])['Quantity'].sum().unstack().fillna(0). \\\n",
    "            applymap(lambda x: 1 if x > 0 else 0)\n",
    "    else:\n",
    "        return dataframe.groupby(['Invoice', 'Description'])['Quantity'].sum().unstack().fillna(0). \\\n",
    "            applymap(lambda x: 1 if x > 0 else 0)"
   ]
  },
  {
   "cell_type": "code",
   "execution_count": 119,
   "id": "8ca746be",
   "metadata": {},
   "outputs": [
    {
     "data": {
      "text/html": [
       "<div>\n",
       "<style scoped>\n",
       "    .dataframe tbody tr th:only-of-type {\n",
       "        vertical-align: middle;\n",
       "    }\n",
       "\n",
       "    .dataframe tbody tr th {\n",
       "        vertical-align: top;\n",
       "    }\n",
       "\n",
       "    .dataframe thead th {\n",
       "        text-align: right;\n",
       "    }\n",
       "</style>\n",
       "<table border=\"1\" class=\"dataframe\">\n",
       "  <thead>\n",
       "    <tr style=\"text-align: right;\">\n",
       "      <th>StockCode</th>\n",
       "      <th>10002</th>\n",
       "      <th>10125</th>\n",
       "      <th>11001</th>\n",
       "      <th>15034</th>\n",
       "      <th>15036</th>\n",
       "      <th>15039</th>\n",
       "      <th>16008</th>\n",
       "      <th>16011</th>\n",
       "      <th>16014</th>\n",
       "      <th>16016</th>\n",
       "      <th>...</th>\n",
       "      <th>90160D</th>\n",
       "      <th>90161B</th>\n",
       "      <th>90161C</th>\n",
       "      <th>90161D</th>\n",
       "      <th>90201A</th>\n",
       "      <th>90201B</th>\n",
       "      <th>90201C</th>\n",
       "      <th>90201D</th>\n",
       "      <th>90202D</th>\n",
       "      <th>M</th>\n",
       "    </tr>\n",
       "    <tr>\n",
       "      <th>Invoice</th>\n",
       "      <th></th>\n",
       "      <th></th>\n",
       "      <th></th>\n",
       "      <th></th>\n",
       "      <th></th>\n",
       "      <th></th>\n",
       "      <th></th>\n",
       "      <th></th>\n",
       "      <th></th>\n",
       "      <th></th>\n",
       "      <th></th>\n",
       "      <th></th>\n",
       "      <th></th>\n",
       "      <th></th>\n",
       "      <th></th>\n",
       "      <th></th>\n",
       "      <th></th>\n",
       "      <th></th>\n",
       "      <th></th>\n",
       "      <th></th>\n",
       "      <th></th>\n",
       "    </tr>\n",
       "  </thead>\n",
       "  <tbody>\n",
       "    <tr>\n",
       "      <th>536527</th>\n",
       "      <td>0</td>\n",
       "      <td>0</td>\n",
       "      <td>0</td>\n",
       "      <td>0</td>\n",
       "      <td>0</td>\n",
       "      <td>0</td>\n",
       "      <td>0</td>\n",
       "      <td>0</td>\n",
       "      <td>0</td>\n",
       "      <td>0</td>\n",
       "      <td>...</td>\n",
       "      <td>0</td>\n",
       "      <td>0</td>\n",
       "      <td>0</td>\n",
       "      <td>0</td>\n",
       "      <td>0</td>\n",
       "      <td>0</td>\n",
       "      <td>0</td>\n",
       "      <td>0</td>\n",
       "      <td>0</td>\n",
       "      <td>0</td>\n",
       "    </tr>\n",
       "    <tr>\n",
       "      <th>536840</th>\n",
       "      <td>0</td>\n",
       "      <td>0</td>\n",
       "      <td>0</td>\n",
       "      <td>0</td>\n",
       "      <td>0</td>\n",
       "      <td>0</td>\n",
       "      <td>0</td>\n",
       "      <td>0</td>\n",
       "      <td>0</td>\n",
       "      <td>0</td>\n",
       "      <td>...</td>\n",
       "      <td>0</td>\n",
       "      <td>0</td>\n",
       "      <td>0</td>\n",
       "      <td>0</td>\n",
       "      <td>0</td>\n",
       "      <td>0</td>\n",
       "      <td>0</td>\n",
       "      <td>0</td>\n",
       "      <td>0</td>\n",
       "      <td>0</td>\n",
       "    </tr>\n",
       "    <tr>\n",
       "      <th>536861</th>\n",
       "      <td>0</td>\n",
       "      <td>0</td>\n",
       "      <td>0</td>\n",
       "      <td>0</td>\n",
       "      <td>0</td>\n",
       "      <td>0</td>\n",
       "      <td>0</td>\n",
       "      <td>0</td>\n",
       "      <td>0</td>\n",
       "      <td>0</td>\n",
       "      <td>...</td>\n",
       "      <td>0</td>\n",
       "      <td>0</td>\n",
       "      <td>0</td>\n",
       "      <td>0</td>\n",
       "      <td>0</td>\n",
       "      <td>0</td>\n",
       "      <td>0</td>\n",
       "      <td>0</td>\n",
       "      <td>0</td>\n",
       "      <td>0</td>\n",
       "    </tr>\n",
       "    <tr>\n",
       "      <th>536967</th>\n",
       "      <td>0</td>\n",
       "      <td>0</td>\n",
       "      <td>0</td>\n",
       "      <td>0</td>\n",
       "      <td>0</td>\n",
       "      <td>0</td>\n",
       "      <td>0</td>\n",
       "      <td>0</td>\n",
       "      <td>0</td>\n",
       "      <td>0</td>\n",
       "      <td>...</td>\n",
       "      <td>0</td>\n",
       "      <td>0</td>\n",
       "      <td>0</td>\n",
       "      <td>0</td>\n",
       "      <td>0</td>\n",
       "      <td>0</td>\n",
       "      <td>0</td>\n",
       "      <td>0</td>\n",
       "      <td>0</td>\n",
       "      <td>0</td>\n",
       "    </tr>\n",
       "    <tr>\n",
       "      <th>536983</th>\n",
       "      <td>0</td>\n",
       "      <td>0</td>\n",
       "      <td>0</td>\n",
       "      <td>0</td>\n",
       "      <td>0</td>\n",
       "      <td>0</td>\n",
       "      <td>0</td>\n",
       "      <td>0</td>\n",
       "      <td>0</td>\n",
       "      <td>1</td>\n",
       "      <td>...</td>\n",
       "      <td>0</td>\n",
       "      <td>0</td>\n",
       "      <td>0</td>\n",
       "      <td>0</td>\n",
       "      <td>0</td>\n",
       "      <td>0</td>\n",
       "      <td>0</td>\n",
       "      <td>0</td>\n",
       "      <td>0</td>\n",
       "      <td>0</td>\n",
       "    </tr>\n",
       "  </tbody>\n",
       "</table>\n",
       "<p>5 rows × 1521 columns</p>\n",
       "</div>"
      ],
      "text/plain": [
       "StockCode  10002  10125  11001  15034  15036  15039  16008  16011  16014  \\\n",
       "Invoice                                                                    \n",
       "536527         0      0      0      0      0      0      0      0      0   \n",
       "536840         0      0      0      0      0      0      0      0      0   \n",
       "536861         0      0      0      0      0      0      0      0      0   \n",
       "536967         0      0      0      0      0      0      0      0      0   \n",
       "536983         0      0      0      0      0      0      0      0      0   \n",
       "\n",
       "StockCode  16016  ...  90160D  90161B  90161C  90161D  90201A  90201B  90201C  \\\n",
       "Invoice           ...                                                           \n",
       "536527         0  ...       0       0       0       0       0       0       0   \n",
       "536840         0  ...       0       0       0       0       0       0       0   \n",
       "536861         0  ...       0       0       0       0       0       0       0   \n",
       "536967         0  ...       0       0       0       0       0       0       0   \n",
       "536983         1  ...       0       0       0       0       0       0       0   \n",
       "\n",
       "StockCode  90201D  90202D  M  \n",
       "Invoice                       \n",
       "536527          0       0  0  \n",
       "536840          0       0  0  \n",
       "536861          0       0  0  \n",
       "536967          0       0  0  \n",
       "536983          0       0  0  \n",
       "\n",
       "[5 rows x 1521 columns]"
      ]
     },
     "execution_count": 119,
     "metadata": {},
     "output_type": "execute_result"
    }
   ],
   "source": [
    "invoice_df = invoice_item_df(df_germany, id=True)\n",
    "invoice_df.head()"
   ]
  },
  {
   "cell_type": "markdown",
   "id": "80974d6b",
   "metadata": {},
   "source": [
    "Define a function to find the product name corresponding to the stockcode"
   ]
  },
  {
   "cell_type": "code",
   "execution_count": 121,
   "id": "9e737e44",
   "metadata": {},
   "outputs": [],
   "source": [
    "def display_name(dataframe, stockcode):\n",
    "    product_name = dataframe[dataframe[\"StockCode\"] == stockcode][\"Description\"].unique()[0]\n",
    "    return stockcode, product_name"
   ]
  },
  {
   "cell_type": "code",
   "execution_count": 122,
   "id": "956a3b60",
   "metadata": {
    "scrolled": true
   },
   "outputs": [
    {
     "data": {
      "text/plain": [
       "(10002, 'INFLATABLE POLITICAL GLOBE ')"
      ]
     },
     "execution_count": 122,
     "metadata": {},
     "output_type": "execute_result"
    }
   ],
   "source": [
    "display_name(df_germany, 10002)"
   ]
  },
  {
   "cell_type": "markdown",
   "id": "0efe4ec9",
   "metadata": {},
   "source": [
    "Get the support values for every possible configuration of items (thereshold of support is 0.05 (5%))"
   ]
  },
  {
   "cell_type": "code",
   "execution_count": 123,
   "id": "0d3daaa3",
   "metadata": {},
   "outputs": [],
   "source": [
    "frequent_items = apriori(gr_inv_pro_df, min_support=0.05, use_colnames=True)"
   ]
  },
  {
   "cell_type": "code",
   "execution_count": 128,
   "id": "8f389a98",
   "metadata": {},
   "outputs": [
    {
     "data": {
      "text/html": [
       "<div>\n",
       "<style scoped>\n",
       "    .dataframe tbody tr th:only-of-type {\n",
       "        vertical-align: middle;\n",
       "    }\n",
       "\n",
       "    .dataframe tbody tr th {\n",
       "        vertical-align: top;\n",
       "    }\n",
       "\n",
       "    .dataframe thead th {\n",
       "        text-align: right;\n",
       "    }\n",
       "</style>\n",
       "<table border=\"1\" class=\"dataframe\">\n",
       "  <thead>\n",
       "    <tr style=\"text-align: right;\">\n",
       "      <th></th>\n",
       "      <th>support</th>\n",
       "      <th>itemsets</th>\n",
       "    </tr>\n",
       "  </thead>\n",
       "  <tbody>\n",
       "    <tr>\n",
       "      <th>0</th>\n",
       "      <td>0.103371</td>\n",
       "      <td>(20712)</td>\n",
       "    </tr>\n",
       "    <tr>\n",
       "      <th>1</th>\n",
       "      <td>0.130337</td>\n",
       "      <td>(20719)</td>\n",
       "    </tr>\n",
       "    <tr>\n",
       "      <th>2</th>\n",
       "      <td>0.071910</td>\n",
       "      <td>(20724)</td>\n",
       "    </tr>\n",
       "    <tr>\n",
       "      <th>3</th>\n",
       "      <td>0.080899</td>\n",
       "      <td>(20726)</td>\n",
       "    </tr>\n",
       "    <tr>\n",
       "      <th>4</th>\n",
       "      <td>0.067416</td>\n",
       "      <td>(20750)</td>\n",
       "    </tr>\n",
       "  </tbody>\n",
       "</table>\n",
       "</div>"
      ],
      "text/plain": [
       "    support itemsets\n",
       "0  0.103371  (20712)\n",
       "1  0.130337  (20719)\n",
       "2  0.071910  (20724)\n",
       "3  0.080899  (20726)\n",
       "4  0.067416  (20750)"
      ]
     },
     "execution_count": 128,
     "metadata": {},
     "output_type": "execute_result"
    }
   ],
   "source": [
    "frequent_items.head()"
   ]
  },
  {
   "cell_type": "markdown",
   "id": "0abadd14",
   "metadata": {},
   "source": [
    "Apply association rule"
   ]
  },
  {
   "cell_type": "code",
   "execution_count": 129,
   "id": "a1e519db",
   "metadata": {},
   "outputs": [
    {
     "data": {
      "text/html": [
       "<div>\n",
       "<style scoped>\n",
       "    .dataframe tbody tr th:only-of-type {\n",
       "        vertical-align: middle;\n",
       "    }\n",
       "\n",
       "    .dataframe tbody tr th {\n",
       "        vertical-align: top;\n",
       "    }\n",
       "\n",
       "    .dataframe thead th {\n",
       "        text-align: right;\n",
       "    }\n",
       "</style>\n",
       "<table border=\"1\" class=\"dataframe\">\n",
       "  <thead>\n",
       "    <tr style=\"text-align: right;\">\n",
       "      <th></th>\n",
       "      <th>antecedents</th>\n",
       "      <th>consequents</th>\n",
       "      <th>antecedent support</th>\n",
       "      <th>consequent support</th>\n",
       "      <th>support</th>\n",
       "      <th>confidence</th>\n",
       "      <th>lift</th>\n",
       "      <th>leverage</th>\n",
       "      <th>conviction</th>\n",
       "    </tr>\n",
       "  </thead>\n",
       "  <tbody>\n",
       "    <tr>\n",
       "      <th>4</th>\n",
       "      <td>(22328)</td>\n",
       "      <td>(22326)</td>\n",
       "      <td>0.161798</td>\n",
       "      <td>0.251685</td>\n",
       "      <td>0.134831</td>\n",
       "      <td>0.833333</td>\n",
       "      <td>3.311012</td>\n",
       "      <td>0.094109</td>\n",
       "      <td>4.489888</td>\n",
       "    </tr>\n",
       "    <tr>\n",
       "      <th>5</th>\n",
       "      <td>(22326)</td>\n",
       "      <td>(22328)</td>\n",
       "      <td>0.251685</td>\n",
       "      <td>0.161798</td>\n",
       "      <td>0.134831</td>\n",
       "      <td>0.535714</td>\n",
       "      <td>3.311012</td>\n",
       "      <td>0.094109</td>\n",
       "      <td>1.805359</td>\n",
       "    </tr>\n",
       "    <tr>\n",
       "      <th>6</th>\n",
       "      <td>(22554)</td>\n",
       "      <td>(22326)</td>\n",
       "      <td>0.141573</td>\n",
       "      <td>0.251685</td>\n",
       "      <td>0.076404</td>\n",
       "      <td>0.539683</td>\n",
       "      <td>2.144274</td>\n",
       "      <td>0.040773</td>\n",
       "      <td>1.625649</td>\n",
       "    </tr>\n",
       "    <tr>\n",
       "      <th>7</th>\n",
       "      <td>(22326)</td>\n",
       "      <td>(22554)</td>\n",
       "      <td>0.251685</td>\n",
       "      <td>0.141573</td>\n",
       "      <td>0.076404</td>\n",
       "      <td>0.303571</td>\n",
       "      <td>2.144274</td>\n",
       "      <td>0.040773</td>\n",
       "      <td>1.232613</td>\n",
       "    </tr>\n",
       "    <tr>\n",
       "      <th>10</th>\n",
       "      <td>(22629)</td>\n",
       "      <td>(22326)</td>\n",
       "      <td>0.105618</td>\n",
       "      <td>0.251685</td>\n",
       "      <td>0.071910</td>\n",
       "      <td>0.680851</td>\n",
       "      <td>2.705167</td>\n",
       "      <td>0.045328</td>\n",
       "      <td>2.344719</td>\n",
       "    </tr>\n",
       "  </tbody>\n",
       "</table>\n",
       "</div>"
      ],
      "text/plain": [
       "   antecedents consequents  antecedent support  consequent support   support  \\\n",
       "4      (22328)     (22326)            0.161798            0.251685  0.134831   \n",
       "5      (22326)     (22328)            0.251685            0.161798  0.134831   \n",
       "6      (22554)     (22326)            0.141573            0.251685  0.076404   \n",
       "7      (22326)     (22554)            0.251685            0.141573  0.076404   \n",
       "10     (22629)     (22326)            0.105618            0.251685  0.071910   \n",
       "\n",
       "    confidence      lift  leverage  conviction  \n",
       "4     0.833333  3.311012  0.094109    4.489888  \n",
       "5     0.535714  3.311012  0.094109    1.805359  \n",
       "6     0.539683  2.144274  0.040773    1.625649  \n",
       "7     0.303571  2.144274  0.040773    1.232613  \n",
       "10    0.680851  2.705167  0.045328    2.344719  "
      ]
     },
     "execution_count": 129,
     "metadata": {},
     "output_type": "execute_result"
    }
   ],
   "source": [
    "rules = association_rules(frequent_items, metric=\"support\", min_threshold=0.05)\n",
    "rules.sort_values(\"support\", ascending=False).head(5)"
   ]
  },
  {
   "cell_type": "code",
   "execution_count": 130,
   "id": "8b1df99e",
   "metadata": {
    "scrolled": true
   },
   "outputs": [
    {
     "data": {
      "text/html": [
       "<div>\n",
       "<style scoped>\n",
       "    .dataframe tbody tr th:only-of-type {\n",
       "        vertical-align: middle;\n",
       "    }\n",
       "\n",
       "    .dataframe tbody tr th {\n",
       "        vertical-align: top;\n",
       "    }\n",
       "\n",
       "    .dataframe thead th {\n",
       "        text-align: right;\n",
       "    }\n",
       "</style>\n",
       "<table border=\"1\" class=\"dataframe\">\n",
       "  <thead>\n",
       "    <tr style=\"text-align: right;\">\n",
       "      <th></th>\n",
       "      <th>antecedents</th>\n",
       "      <th>consequents</th>\n",
       "      <th>antecedent support</th>\n",
       "      <th>consequent support</th>\n",
       "      <th>support</th>\n",
       "      <th>confidence</th>\n",
       "      <th>lift</th>\n",
       "      <th>leverage</th>\n",
       "      <th>conviction</th>\n",
       "    </tr>\n",
       "  </thead>\n",
       "  <tbody>\n",
       "    <tr>\n",
       "      <th>0</th>\n",
       "      <td>(20724)</td>\n",
       "      <td>(20719)</td>\n",
       "      <td>0.071910</td>\n",
       "      <td>0.130337</td>\n",
       "      <td>0.060674</td>\n",
       "      <td>0.843750</td>\n",
       "      <td>6.473599</td>\n",
       "      <td>0.051302</td>\n",
       "      <td>5.565843</td>\n",
       "    </tr>\n",
       "    <tr>\n",
       "      <th>1</th>\n",
       "      <td>(20719)</td>\n",
       "      <td>(20724)</td>\n",
       "      <td>0.130337</td>\n",
       "      <td>0.071910</td>\n",
       "      <td>0.060674</td>\n",
       "      <td>0.465517</td>\n",
       "      <td>6.473599</td>\n",
       "      <td>0.051302</td>\n",
       "      <td>1.736426</td>\n",
       "    </tr>\n",
       "    <tr>\n",
       "      <th>16</th>\n",
       "      <td>(22554)</td>\n",
       "      <td>(22556)</td>\n",
       "      <td>0.141573</td>\n",
       "      <td>0.119101</td>\n",
       "      <td>0.069663</td>\n",
       "      <td>0.492063</td>\n",
       "      <td>4.131476</td>\n",
       "      <td>0.052801</td>\n",
       "      <td>1.734270</td>\n",
       "    </tr>\n",
       "    <tr>\n",
       "      <th>17</th>\n",
       "      <td>(22556)</td>\n",
       "      <td>(22554)</td>\n",
       "      <td>0.119101</td>\n",
       "      <td>0.141573</td>\n",
       "      <td>0.069663</td>\n",
       "      <td>0.584906</td>\n",
       "      <td>4.131476</td>\n",
       "      <td>0.052801</td>\n",
       "      <td>2.068029</td>\n",
       "    </tr>\n",
       "    <tr>\n",
       "      <th>14</th>\n",
       "      <td>(22554)</td>\n",
       "      <td>(22551)</td>\n",
       "      <td>0.141573</td>\n",
       "      <td>0.110112</td>\n",
       "      <td>0.062921</td>\n",
       "      <td>0.444444</td>\n",
       "      <td>4.036281</td>\n",
       "      <td>0.047332</td>\n",
       "      <td>1.601798</td>\n",
       "    </tr>\n",
       "  </tbody>\n",
       "</table>\n",
       "</div>"
      ],
      "text/plain": [
       "   antecedents consequents  antecedent support  consequent support   support  \\\n",
       "0      (20724)     (20719)            0.071910            0.130337  0.060674   \n",
       "1      (20719)     (20724)            0.130337            0.071910  0.060674   \n",
       "16     (22554)     (22556)            0.141573            0.119101  0.069663   \n",
       "17     (22556)     (22554)            0.119101            0.141573  0.069663   \n",
       "14     (22554)     (22551)            0.141573            0.110112  0.062921   \n",
       "\n",
       "    confidence      lift  leverage  conviction  \n",
       "0     0.843750  6.473599  0.051302    5.565843  \n",
       "1     0.465517  6.473599  0.051302    1.736426  \n",
       "16    0.492063  4.131476  0.052801    1.734270  \n",
       "17    0.584906  4.131476  0.052801    2.068029  \n",
       "14    0.444444  4.036281  0.047332    1.601798  "
      ]
     },
     "execution_count": 130,
     "metadata": {},
     "output_type": "execute_result"
    }
   ],
   "source": [
    "sorted_rules = rules.sort_values(\"lift\", ascending=False)\n",
    "sorted_rules.head()"
   ]
  },
  {
   "cell_type": "markdown",
   "id": "a743c669",
   "metadata": {},
   "source": [
    "To check the item name with its stockcode"
   ]
  },
  {
   "cell_type": "code",
   "execution_count": 137,
   "id": "e2beabee",
   "metadata": {
    "scrolled": true
   },
   "outputs": [
    {
     "data": {
      "text/plain": [
       "(22554, 'PLASTERS IN TIN WOODLAND ANIMALS')"
      ]
     },
     "execution_count": 137,
     "metadata": {},
     "output_type": "execute_result"
    }
   ],
   "source": [
    "product_id = 22554\n",
    "check_id(df, product_id)"
   ]
  },
  {
   "cell_type": "markdown",
   "id": "3586d9fd",
   "metadata": {},
   "source": [
    "To store the recommendations for one item"
   ]
  },
  {
   "cell_type": "code",
   "execution_count": 138,
   "id": "cb4517fb",
   "metadata": {},
   "outputs": [],
   "source": [
    "product_id = 22554\n",
    "recommendation_list = []\n",
    "for idx, product in enumerate(sorted_rules[\"antecedents\"]):\n",
    "    for j in list(product):\n",
    "        if j == product_id:\n",
    "            recommendation_list.append(list(sorted_rules.iloc[idx][\"consequents\"])[0])\n",
    "            recommendation_list = list( dict.fromkeys(recommendation_list) )"
   ]
  },
  {
   "cell_type": "code",
   "execution_count": 139,
   "id": "258446d6",
   "metadata": {},
   "outputs": [
    {
     "name": "stdout",
     "output_type": "stream",
     "text": [
      "(22556, 'PLASTERS IN TIN CIRCUS PARADE ')\n",
      "(22551, 'PLASTERS IN TIN SPACEBOY')\n",
      "(22326, 'ROUND SNACK BOXES SET OF4 WOODLAND ')\n"
     ]
    }
   ],
   "source": [
    "list_top5 = recommendation_list[0:5]\n",
    "for elem in list_top5:\n",
    "    print(check_id(df_germany,elem))"
   ]
  },
  {
   "cell_type": "markdown",
   "id": "29f1ff7e",
   "metadata": {},
   "source": [
    "So, customers whi are purchasing item - 22554, the store can recommend them to purchase these 3 items- 22556, 22551, 22326"
   ]
  }
 ],
 "metadata": {
  "kernelspec": {
   "display_name": "Python 3 (ipykernel)",
   "language": "python",
   "name": "python3"
  },
  "language_info": {
   "codemirror_mode": {
    "name": "ipython",
    "version": 3
   },
   "file_extension": ".py",
   "mimetype": "text/x-python",
   "name": "python",
   "nbconvert_exporter": "python",
   "pygments_lexer": "ipython3",
   "version": "3.8.12"
  }
 },
 "nbformat": 4,
 "nbformat_minor": 5
}
